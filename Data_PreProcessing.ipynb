{
  "nbformat": 4,
  "nbformat_minor": 0,
  "metadata": {
    "colab": {
      "provenance": [],
      "toc_visible": true,
      "authorship_tag": "ABX9TyMc0TpeGIrh2I1Cu6l6A4KW",
      "include_colab_link": true
    },
    "kernelspec": {
      "name": "python3",
      "display_name": "Python 3"
    },
    "language_info": {
      "name": "python"
    }
  },
  "cells": [
    {
      "cell_type": "markdown",
      "metadata": {
        "id": "view-in-github",
        "colab_type": "text"
      },
      "source": [
        "<a href=\"https://colab.research.google.com/github/NaeemAbdullahAkram/CAMPUS-CODER-PROJECT-Files/blob/main/Data_PreProcessing.ipynb\" target=\"_parent\"><img src=\"https://colab.research.google.com/assets/colab-badge.svg\" alt=\"Open In Colab\"/></a>"
      ]
    },
    {
      "cell_type": "code",
      "execution_count": null,
      "metadata": {
        "id": "5FvUMEBm8dFV"
      },
      "outputs": [],
      "source": [
        "#Data Preprocessing - getting data ready to train our model\n",
        "\n",
        "#IMPORTING LIBRARIES\n",
        "import numpy as np\n",
        "import matplotlib.pyplot as plt\n",
        "import pandas as pd"
      ]
    },
    {
      "cell_type": "code",
      "source": [
        "#IMPORTING THE DATASET\n",
        "dataset = pd.read_csv('Data.csv')"
      ],
      "metadata": {
        "id": "71WSig9H9Ckz"
      },
      "execution_count": null,
      "outputs": []
    },
    {
      "cell_type": "code",
      "source": [
        "#data.iloc[<row-selection>, <col-selection>]\n",
        "X = dataset.iloc[:, :-1] #'-1' represents last column\n",
        "Y = dataset.iloc[:,3]"
      ],
      "metadata": {
        "id": "2VI9zW5I9FrI"
      },
      "execution_count": null,
      "outputs": []
    },
    {
      "cell_type": "code",
      "source": [
        "#SPLITTING THE DATASET INTO TRAINING & TEST SET (80-20 split)\n",
        "#using the test data for cross-validation\n",
        "from sklearn.model_selection import train_test_split\n",
        "X_train, X_test, Y_train, Y_test = train_test_split(X, Y, test_size = 0.2, random_state = 0)"
      ],
      "metadata": {
        "id": "Jo1k62LP9Jb4"
      },
      "execution_count": null,
      "outputs": []
    }
  ]
}